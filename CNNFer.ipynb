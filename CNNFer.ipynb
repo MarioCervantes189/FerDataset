{
 "cells": [
  {
   "cell_type": "code",
   "execution_count": 1,
   "metadata": {},
   "outputs": [],
   "source": [
    "import pandas as pd\n",
    "import numpy as np\n",
    "import cv2\n",
    "import tensorflow as tf\n",
    "import os\n",
    "from tensorflow.keras.callbacks import TensorBoard\n",
    "\n",
    "from sklearn.model_selection import train_test_split\n",
    "from tensorflow.keras import layers,models"
   ]
  },
  {
   "cell_type": "code",
   "execution_count": 2,
   "metadata": {},
   "outputs": [],
   "source": [
    "log_dir = \"logs/fit/\"\n",
    "if not os.path.exists(log_dir):\n",
    "    os.makedirs(log_dir)"
   ]
  },
  {
   "cell_type": "code",
   "execution_count": 3,
   "metadata": {},
   "outputs": [],
   "source": [
    "df = pd.read_pickle('datasetFER.pkl')"
   ]
  },
  {
   "cell_type": "code",
   "execution_count": 4,
   "metadata": {},
   "outputs": [
    {
     "data": {
      "text/html": [
       "<div>\n",
       "<style scoped>\n",
       "    .dataframe tbody tr th:only-of-type {\n",
       "        vertical-align: middle;\n",
       "    }\n",
       "\n",
       "    .dataframe tbody tr th {\n",
       "        vertical-align: top;\n",
       "    }\n",
       "\n",
       "    .dataframe thead th {\n",
       "        text-align: right;\n",
       "    }\n",
       "</style>\n",
       "<table border=\"1\" class=\"dataframe\">\n",
       "  <thead>\n",
       "    <tr style=\"text-align: right;\">\n",
       "      <th></th>\n",
       "      <th>Imagen</th>\n",
       "      <th>Imagen con zoom</th>\n",
       "      <th>Hitos faciales</th>\n",
       "      <th>Etiquetas</th>\n",
       "    </tr>\n",
       "  </thead>\n",
       "  <tbody>\n",
       "    <tr>\n",
       "      <th>0</th>\n",
       "      <td>[[127, 127, 125, 123, 121, 122, 123, 124, 127,...</td>\n",
       "      <td>[[127, 127, 125, 123, 121, 122, 123, 124, 127,...</td>\n",
       "      <td>[[18, 37], [18, 51], [18, 66], [21, 81], [27, ...</td>\n",
       "      <td>angry</td>\n",
       "    </tr>\n",
       "    <tr>\n",
       "      <th>1</th>\n",
       "      <td>[[248, 248, 246, 245, 243, 246, 249, 253, 254,...</td>\n",
       "      <td>[[248, 248, 246, 245, 243, 246, 249, 253, 254,...</td>\n",
       "      <td>[[-6, 42], [-7, 63], [-5, 84], [-2, 104], [6, ...</td>\n",
       "      <td>angry</td>\n",
       "    </tr>\n",
       "    <tr>\n",
       "      <th>2</th>\n",
       "      <td>[[225, 225, 226, 228, 230, 230, 230, 230, 230,...</td>\n",
       "      <td>[[210, 206, 208, 211, 214, 215, 216, 217, 216,...</td>\n",
       "      <td>[[35, 56], [35, 65], [36, 74], [39, 83], [42, ...</td>\n",
       "      <td>angry</td>\n",
       "    </tr>\n",
       "    <tr>\n",
       "      <th>3</th>\n",
       "      <td>[[118, 118, 86, 52, 18, 13, 15, 16, 16, 14, 13...</td>\n",
       "      <td>[[65, 78, 90, 102, 110, 117, 125, 129, 133, 13...</td>\n",
       "      <td>[[35, 86], [38, 98], [44, 109], [53, 118], [62...</td>\n",
       "      <td>angry</td>\n",
       "    </tr>\n",
       "    <tr>\n",
       "      <th>4</th>\n",
       "      <td>[[255, 255, 255, 255, 255, 255, 255, 255, 255,...</td>\n",
       "      <td>[[255, 255, 255, 255, 255, 255, 255, 255, 255,...</td>\n",
       "      <td>[[37, 34], [34, 49], [33, 64], [35, 80], [39, ...</td>\n",
       "      <td>angry</td>\n",
       "    </tr>\n",
       "  </tbody>\n",
       "</table>\n",
       "</div>"
      ],
      "text/plain": [
       "                                              Imagen  \\\n",
       "0  [[127, 127, 125, 123, 121, 122, 123, 124, 127,...   \n",
       "1  [[248, 248, 246, 245, 243, 246, 249, 253, 254,...   \n",
       "2  [[225, 225, 226, 228, 230, 230, 230, 230, 230,...   \n",
       "3  [[118, 118, 86, 52, 18, 13, 15, 16, 16, 14, 13...   \n",
       "4  [[255, 255, 255, 255, 255, 255, 255, 255, 255,...   \n",
       "\n",
       "                                     Imagen con zoom  \\\n",
       "0  [[127, 127, 125, 123, 121, 122, 123, 124, 127,...   \n",
       "1  [[248, 248, 246, 245, 243, 246, 249, 253, 254,...   \n",
       "2  [[210, 206, 208, 211, 214, 215, 216, 217, 216,...   \n",
       "3  [[65, 78, 90, 102, 110, 117, 125, 129, 133, 13...   \n",
       "4  [[255, 255, 255, 255, 255, 255, 255, 255, 255,...   \n",
       "\n",
       "                                      Hitos faciales Etiquetas  \n",
       "0  [[18, 37], [18, 51], [18, 66], [21, 81], [27, ...     angry  \n",
       "1  [[-6, 42], [-7, 63], [-5, 84], [-2, 104], [6, ...     angry  \n",
       "2  [[35, 56], [35, 65], [36, 74], [39, 83], [42, ...     angry  \n",
       "3  [[35, 86], [38, 98], [44, 109], [53, 118], [62...     angry  \n",
       "4  [[37, 34], [34, 49], [33, 64], [35, 80], [39, ...     angry  "
      ]
     },
     "execution_count": 4,
     "metadata": {},
     "output_type": "execute_result"
    }
   ],
   "source": [
    "df.head()"
   ]
  },
  {
   "cell_type": "code",
   "execution_count": 5,
   "metadata": {},
   "outputs": [],
   "source": [
    "import numpy as np\n",
    "from PIL import Image\n",
    "\n",
    "# Función para redimensionar una imagen\n",
    "def redimensionar_imagen(imagen, nuevo_ancho, nuevo_alto):\n",
    "    img = Image.fromarray(imagen)\n",
    "    img = img.resize((nuevo_ancho, nuevo_alto))\n",
    "    return np.array(img)\n",
    "\n",
    "# Definir el tamaño al que quieres redimensionar todas las imágenes\n",
    "nuevo_ancho = 48\n",
    "nuevo_alto = 48\n",
    "\n",
    "# Redimensionar todas las imágenes a la misma forma y convertirlas en arreglos numpy\n",
    "X = np.array([redimensionar_imagen(imagen, nuevo_ancho, nuevo_alto) for imagen in df['Imagen con zoom']])\n"
   ]
  },
  {
   "cell_type": "code",
   "execution_count": 6,
   "metadata": {},
   "outputs": [],
   "source": [
    "X = X / 255.0"
   ]
  },
  {
   "cell_type": "code",
   "execution_count": 7,
   "metadata": {},
   "outputs": [],
   "source": [
    "etiquetas = df['Etiquetas'].astype('category').cat.codes"
   ]
  },
  {
   "cell_type": "code",
   "execution_count": 8,
   "metadata": {},
   "outputs": [
    {
     "name": "stdout",
     "output_type": "stream",
     "text": [
      "0        0\n",
      "1        0\n",
      "2        0\n",
      "3        0\n",
      "4        0\n",
      "        ..\n",
      "25680    6\n",
      "25681    6\n",
      "25682    6\n",
      "25683    6\n",
      "25684    6\n",
      "Length: 25685, dtype: int8\n"
     ]
    }
   ],
   "source": [
    "print(etiquetas)"
   ]
  },
  {
   "cell_type": "code",
   "execution_count": 9,
   "metadata": {},
   "outputs": [
    {
     "name": "stdout",
     "output_type": "stream",
     "text": [
      "[0 1 2 3 4 5 6]\n"
     ]
    }
   ],
   "source": [
    "print(etiquetas.unique())"
   ]
  },
  {
   "cell_type": "code",
   "execution_count": 10,
   "metadata": {},
   "outputs": [],
   "source": [
    "X_train, X_test, y_train, y_test = train_test_split(X, etiquetas, test_size=0.3,stratify=etiquetas, random_state=42)"
   ]
  },
  {
   "cell_type": "code",
   "execution_count": 11,
   "metadata": {},
   "outputs": [],
   "source": [
    "# Definir el modelo CNN\n",
    "model = models.Sequential([\n",
    "    layers.Conv2D(256, (5, 5), activation='relu', input_shape=(nuevo_ancho, nuevo_alto, 1)),\n",
    "    layers.MaxPooling2D((2, 2)),\n",
    "    layers.Conv2D(128, (5, 5), activation='relu'),\n",
    "    layers.MaxPooling2D((2, 2)),\n",
    "    layers.Conv2D(64, (5, 5), activation='relu'),\n",
    "    layers.Flatten(),\n",
    "    layers.Dense(32, activation='relu'),\n",
    "    layers.Dense(len(etiquetas), activation='softmax')\n",
    "])"
   ]
  },
  {
   "cell_type": "code",
   "execution_count": 12,
   "metadata": {},
   "outputs": [],
   "source": [
    "#compilar el modelo\n",
    "model.compile(optimizer='adam',\n",
    "              loss='sparse_categorical_crossentropy',\n",
    "              metrics=['accuracy'])"
   ]
  },
  {
   "cell_type": "code",
   "execution_count": 13,
   "metadata": {},
   "outputs": [],
   "source": [
    "tensorboard_callback = TensorBoard(log_dir=log_dir, histogram_freq=1)"
   ]
  },
  {
   "cell_type": "code",
   "execution_count": 14,
   "metadata": {},
   "outputs": [
    {
     "name": "stdout",
     "output_type": "stream",
     "text": [
      "Epoch 1/20\n",
      "1124/1124 [==============================] - 27s 21ms/step - loss: 1.9140 - accuracy: 0.2612\n",
      "Epoch 2/20\n",
      "1124/1124 [==============================] - 25s 22ms/step - loss: 1.7831 - accuracy: 0.2851\n",
      "Epoch 3/20\n",
      "1124/1124 [==============================] - 26s 23ms/step - loss: 1.5213 - accuracy: 0.4224\n",
      "Epoch 4/20\n",
      "1124/1124 [==============================] - 26s 23ms/step - loss: 1.3880 - accuracy: 0.4773\n",
      "Epoch 5/20\n",
      "1124/1124 [==============================] - 25s 22ms/step - loss: 1.3046 - accuracy: 0.5090\n",
      "Epoch 6/20\n",
      "1124/1124 [==============================] - 25s 22ms/step - loss: 1.2425 - accuracy: 0.5348\n",
      "Epoch 7/20\n",
      "1124/1124 [==============================] - 24s 21ms/step - loss: 1.1945 - accuracy: 0.5492\n",
      "Epoch 8/20\n",
      "1124/1124 [==============================] - 24s 22ms/step - loss: 1.1502 - accuracy: 0.5645\n",
      "Epoch 9/20\n",
      "1124/1124 [==============================] - 27s 24ms/step - loss: 1.1085 - accuracy: 0.5809\n",
      "Epoch 10/20\n",
      "1124/1124 [==============================] - 25s 23ms/step - loss: 1.0664 - accuracy: 0.5989\n",
      "Epoch 11/20\n",
      "1124/1124 [==============================] - 25s 23ms/step - loss: 1.0291 - accuracy: 0.6128\n",
      "Epoch 12/20\n",
      "1124/1124 [==============================] - 28s 25ms/step - loss: 0.9964 - accuracy: 0.6238\n",
      "Epoch 13/20\n",
      "1124/1124 [==============================] - 26s 24ms/step - loss: 0.9544 - accuracy: 0.6411\n",
      "Epoch 14/20\n",
      "1124/1124 [==============================] - 27s 24ms/step - loss: 0.9173 - accuracy: 0.6549\n",
      "Epoch 15/20\n",
      "1124/1124 [==============================] - 25s 22ms/step - loss: 0.8799 - accuracy: 0.6731\n",
      "Epoch 16/20\n",
      "1124/1124 [==============================] - 25s 22ms/step - loss: 0.8427 - accuracy: 0.6877\n",
      "Epoch 17/20\n",
      "1124/1124 [==============================] - 29s 25ms/step - loss: 0.8085 - accuracy: 0.6974\n",
      "Epoch 18/20\n",
      "1124/1124 [==============================] - 25s 23ms/step - loss: 0.7648 - accuracy: 0.7176\n",
      "Epoch 19/20\n",
      "1124/1124 [==============================] - 24s 22ms/step - loss: 0.7357 - accuracy: 0.7262\n",
      "Epoch 20/20\n",
      "1124/1124 [==============================] - 26s 23ms/step - loss: 0.7008 - accuracy: 0.7410\n"
     ]
    },
    {
     "data": {
      "text/plain": [
       "<keras.callbacks.History at 0x290e8dc4850>"
      ]
     },
     "execution_count": 14,
     "metadata": {},
     "output_type": "execute_result"
    }
   ],
   "source": [
    "model.fit(X_train, y_train, epochs=20, batch_size=16, callbacks=[tensorboard_callback])"
   ]
  },
  {
   "cell_type": "code",
   "execution_count": 15,
   "metadata": {},
   "outputs": [
    {
     "name": "stdout",
     "output_type": "stream",
     "text": [
      "241/241 [==============================] - 5s 17ms/step - loss: 1.4943 - accuracy: 0.5593\n",
      "Precisión del modelo en el conjunto de prueba: 0.559304416179657\n",
      "241/241 [==============================] - 3s 11ms/step\n",
      "Matriz de confusión:\n",
      "[[ 425    7  163   85  168  185   34]\n",
      " [  33   27   24    8   11   23    3]\n",
      " [ 119    3  347   84  167  144  115]\n",
      " [  35    4   77 1762  152   68   41]\n",
      " [  98    7  108  177  771  218   45]\n",
      " [ 123    8  121  106  306  360   34]\n",
      " [  29    0  107   83   59   14  618]]\n"
     ]
    }
   ],
   "source": [
    "from sklearn.metrics import accuracy_score, confusion_matrix\n",
    "\n",
    "# Calcular la precisión del modelo en el conjunto de prueba\n",
    "test_loss, test_accuracy = model.evaluate(X_test, y_test)\n",
    "\n",
    "print(\"Precisión del modelo en el conjunto de prueba:\", test_accuracy)\n",
    "\n",
    "# Generar la matriz de confusión\n",
    "y_pred = model.predict(X_test)\n",
    "confusion_mat = confusion_matrix(y_test, np.argmax(y_pred, axis=1))\n",
    "\n",
    "print(\"Matriz de confusión:\")\n",
    "print(confusion_mat)"
   ]
  },
  {
   "cell_type": "code",
   "execution_count": 16,
   "metadata": {},
   "outputs": [
    {
     "name": "stdout",
     "output_type": "stream",
     "text": [
      "241/241 [==============================] - 3s 13ms/step\n"
     ]
    },
    {
     "data": {
      "image/png": "[encoded data removed]",
      "text/plain": [
       "<Figure size 800x600 with 2 Axes>"
      ]
     },
     "metadata": {},
     "output_type": "display_data"
    }
   ],
   "source": [
    "import matplotlib.pyplot as plt\n",
    "import seaborn as sns\n",
    "from sklearn.metrics import confusion_matrix\n",
    "\n",
    "# Generar la matriz de confusión\n",
    "y_pred = model.predict(X_test)\n",
    "confusion_mat = confusion_matrix(y_test, np.argmax(y_pred, axis=1))\n",
    "\n",
    "# Plotear la matriz de confusión\n",
    "plt.figure(figsize=(8, 6))\n",
    "sns.heatmap(confusion_mat, annot=True, fmt='d', cmap='Blues')\n",
    "plt.title('Matriz de Confusión')\n",
    "plt.xlabel('Etiqueta Predicha')\n",
    "plt.ylabel('Etiqueta Verdadera')\n",
    "plt.show()\n"
   ]
  },
  {
   "cell_type": "code",
   "execution_count": 17,
   "metadata": {},
   "outputs": [],
   "source": [
    "model.save('modeloFERCNN.h5')"
   ]
  }
 ],
 "metadata": {
  "kernelspec": {
   "display_name": "tf",
   "language": "python",
   "name": "python3"
  },
  "language_info": {
   "codemirror_mode": {
    "name": "ipython",
    "version": 3
   },
   "file_extension": ".py",
   "mimetype": "text/x-python",
   "name": "python",
   "nbconvert_exporter": "python",
   "pygments_lexer": "ipython3",
   "version": "3.9.19"
  }
 },
 "nbformat": 4,
 "nbformat_minor": 2
}
